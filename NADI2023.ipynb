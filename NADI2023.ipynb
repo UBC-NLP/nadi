{
  "nbformat": 4,
  "nbformat_minor": 0,
  "metadata": {
    "colab": {
      "provenance": [],
      "gpuType": "T4"
    },
    "kernelspec": {
      "name": "python3",
      "display_name": "Python 3"
    },
    "language_info": {
      "name": "python"
    },
    "accelerator": "GPU"
  },
  "cells": [
    {
      "cell_type": "markdown",
      "source": [
        "<img src=\"https://nadi.dlnlp.ai/NADI_2023_main.gif\">"
      ],
      "metadata": {
        "id": "B6kLXqlXHERx"
      }
    },
    {
      "cell_type": "markdown",
      "source": [
        "#Install requirments"
      ],
      "metadata": {
        "id": "Zl-i0WkjHN75"
      }
    },
    {
      "cell_type": "code",
      "execution_count": null,
      "metadata": {
        "id": "kgiIvnxYj4Rx"
      },
      "outputs": [],
      "source": [
        "!pip install accelerate evaluate transformers sentencepiece sacrebleu"
      ]
    },
    {
      "cell_type": "markdown",
      "source": [
        "#Download Finetuning code and training samples"
      ],
      "metadata": {
        "id": "fHr9utpdHVnN"
      }
    },
    {
      "cell_type": "code",
      "source": [
        "#Donwload FT code and sample for subtask1\n",
        "!wget https://raw.githubusercontent.com/UBC-NLP/nadi/main/run_NADI2023_country_level.py /content/run_NADI2023_country_level.py\n",
        "!wget https://raw.githubusercontent.com/UBC-NLP/nadi/main/NADI2023_subtast1_sample.tsv NADI2023_subtast1_sample.tsv\n",
        "#FT code and sample for subtask2 and subtask3\n",
        "!wget https://raw.githubusercontent.com/UBC-NLP/nadi/main/run_NADI2023_MT.py /content/run_NADI2023_MT.py\n",
        "!wget https://raw.githubusercontent.com/UBC-NLP/nadi/main/NADI2023_MT_examples.tsv /content/NADI2023_MT_examples.tsv"
      ],
      "metadata": {
        "id": "87zn2SgJ09p9"
      },
      "execution_count": null,
      "outputs": []
    },
    {
      "cell_type": "markdown",
      "source": [
        "#Subtask 1 (Closed Country-level Dialect ID)"
      ],
      "metadata": {
        "id": "unBHDfjWHfSd"
      }
    },
    {
      "cell_type": "code",
      "source": [
        "!python run_NADI2023_country_level.py \\\n",
        "  --model_name_or_path UBC-NLP/MARBERTv2 \\\n",
        "  --train_file NADI2023_subtast1_sample.tsv \\\n",
        "  --validation_file NADI2023_subtast1_sample.tsv \\\n",
        "  --do_train \\\n",
        "  --do_eval \\\n",
        "  --max_seq_length 256 \\\n",
        "  --per_device_train_batch_size 32 \\\n",
        "  --learning_rate 5e-5 \\\n",
        "  --num_train_epochs 1 \\\n",
        "  --output_dir /content/subtas1_sample_output --overwrite_output_dir"
      ],
      "metadata": {
        "id": "kIusW9x-1F-Q"
      },
      "execution_count": null,
      "outputs": []
    },
    {
      "cell_type": "markdown",
      "source": [
        "# Subtask 2 (Closed Dialect to MSA MT) and Subtask 3 (Open Dialect to MSA MT)"
      ],
      "metadata": {
        "id": "qwgfbPKvHpkx"
      }
    },
    {
      "cell_type": "code",
      "source": [
        "!python run_NADI2023_MT.py \\\n",
        "  --model_name_or_path UBC-NLP/AraT5-base \\\n",
        "  --train_file NADI2023_MT_examples.tsv \\\n",
        "  --validation_file NADI2023_MT_examples.tsv \\\n",
        "  --learning_rate 5e-5 \\\n",
        "  --max_target_length 256 --max_source_length 256 \\\n",
        "  --per_device_train_batch_size 8 --per_device_eval_batch_size 8 \\\n",
        "  --output_dir /content/MT_output \\\n",
        "  --num_train_epochs 1 \\\n",
        "  --predict_with_generate --source_column \"source_dialect\" --target_column \"target_msa\" \\\n",
        "  --load_best_model_at_end --metric_for_best_model eval_bleu --greater_is_better True --evaluation_strategy epoch --save_strategy epoch --logging_strategy epoch \\\n",
        "  --do_eval --do_train --save_total_limit 1"
      ],
      "metadata": {
        "id": "qP9_5YqW5jwv"
      },
      "execution_count": null,
      "outputs": []
    },
    {
      "cell_type": "code",
      "source": [],
      "metadata": {
        "id": "M9uyraacDo3p"
      },
      "execution_count": null,
      "outputs": []
    }
  ]
}